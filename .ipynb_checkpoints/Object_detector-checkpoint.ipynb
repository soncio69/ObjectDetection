{
 "cells": [
  {
   "cell_type": "markdown",
   "id": "b9def2d5",
   "metadata": {},
   "source": [
    "Object Detection: consiste nell'individuare e localizzare oggetti al'interno di un'immagine/video.<br>\n",
    "In questo paper viene implementato una modalità \"base\" di object detection, avvalendoci di un pre-trained image classifier (ResNet50 CNN pre-trainied su ImageNet dataset) e utilizzando \"imege pyramids\", \"sliding windows\" e \"non-maxima suppression\" per implementare un object detector \"base\".\n",
    "\n",
    "Un object detector deve fornire sia \"qual'è\" il contenuto dell'immagine che \"dov'è\" all'interno dell'immagine, utilizzando un bounding box.\n",
    "\n",
    "Un object detection algorithm avrà quindi il seguente pattern:\n",
    "\n",
    "- riceve una immagine in input\n",
    "- fornisce i seguenti risultati:\n",
    "        - una lista di bounding boxes (x,y coordinates) relativi alla posizione dell'oggetto individuato\n",
    "        - la label associata a ciascun bounding box\n",
    "        - la probabilità associata a ciascun bounding box/label\n",
    "        \n",
    "Vedi articolo https://www.pyimagesearch.com/2020/06/22/turning-any-cnn-image-classifier-into-an-object-detector-with-keras-tensorflow-and-opencv/\n"
   ]
  },
  {
   "cell_type": "code",
   "execution_count": 15,
   "id": "9d8442f5",
   "metadata": {},
   "outputs": [],
   "source": [
    "import numpy as np\n",
    "import cv2\n",
    "import sys"
   ]
  },
  {
   "cell_type": "markdown",
   "id": "e117c3c4",
   "metadata": {},
   "source": [
    "### Image Pyramid\n",
    "\n",
    "Attraverso \"Image pyramid\" si ottiene una rappresentazione multi-scala di una immagine che viene utilizzata al fine di trovare gli oggetti di differenti dimensioni all'interno dell'immagine stessa.<br>\n",
    "L'immagine originale viene ridimensionata progessivamente fino al raggiungimento della dimensione minima prevista.<br>\n",
    "La funzione è implementata come un \"python generator\" che, partendo dall'immagine iniziale, restituisce la stessa immagine a dimensioni differenti.\n",
    "\n",
    "Riceve come parametri:\n",
    "- l'immagine di input\n",
    "- la scala, che controlla di quanto l'immagine viene ridotta ad ogni iterazione (un valore basso comporta comporta un numero maggiore di iterazioni e quindi più layer da analizzare successivamente)\n",
    "- dimensione minima dell'immagine restituita, serve per interromere il ciclo"
   ]
  },
  {
   "cell_type": "code",
   "execution_count": 16,
   "id": "7c8d3ae6",
   "metadata": {},
   "outputs": [],
   "source": [
    "def image_pyramid(image, scale=1.5, minSize=(224, 224)):\n",
    "    # yield the original image\n",
    "    yield image\n",
    "    # keep looping over the image pyramid\n",
    "    while True:\n",
    "        # compute the dimensions of the next image in the pyramid\n",
    "        w = int(image.shape[1] / scale)\n",
    "        image = resize(image, width=w)\n",
    "        # if the resized image does not meet the supplied minimum\n",
    "        # size, then stop constructing the pyramid\n",
    "        if image.shape[0] < minSize[1] or image.shape[1] < minSize[0]:\n",
    "            break\n",
    "        # yield the next image in the pyramid\n",
    "        yield image"
   ]
  },
  {
   "cell_type": "markdown",
   "id": "c852db20",
   "metadata": {},
   "source": [
    "### Sliding Windows\n",
    "\n",
    "Attraverso questa tecnica, una \"finestra\" di dimensione fissa è fatta passare da sinista a destra e dall'altro al basso sull'immagine di input. Serve per individuare esattamente dove si trova l'oggetto all'interno dell'immagine.<br>\n",
    "Per ogni immagine estratta si procede con:\n",
    "- estrazione del ROI (Region of Interest)\n",
    "- image classification (ad esempio utilizzando un CNN pre-trained)\n",
    "- ottenimento della prediction\n",
    "\n",
    "Combinando \"image pyramid\" e \"sliding windows\" è possibile localizzare oggetti in diverse posizioni e a diverse scale all'interno dell'immagine di input. <br>\n",
    "La funzione è implementata come un \"python generatore\" che riceve :\n",
    "- l'immagine di input \n",
    "- lo step size, che è il numero di pixel da saltare (meno sono, maggiore è la complessità computazionale in quanto vengono generate più finestre)\n",
    "- la dimensione della finestra che andremo ad estrarre \n",
    "\n",
    "e restituisce la finestra corrente"
   ]
  },
  {
   "cell_type": "code",
   "execution_count": 3,
   "id": "4ded468a",
   "metadata": {},
   "outputs": [],
   "source": [
    "def sliding_window(image, step, ws):\n",
    "    # slide a window across the image\n",
    "    \n",
    "    # Per ogni riga (range di y values)\n",
    "    for y in range(0, image.shape[0] - ws[1], step):\n",
    "        # Per ogni colonna (range di x values)\n",
    "        for x in range(0, image.shape[1] - ws[0], step):\n",
    "            # yield the current window\n",
    "            yield (x, y, image[y:y + ws[1], x:x + ws[0]])"
   ]
  },
  {
   "cell_type": "markdown",
   "id": "c21f73e8",
   "metadata": {},
   "source": [
    "Funzione di utility per ridimensionare un'immagine di input alle dimensioni fornite da parametro e mantenendo la il rapporto altezza/larghezza iniziale"
   ]
  },
  {
   "cell_type": "code",
   "execution_count": 17,
   "id": "5a44fb34",
   "metadata": {},
   "outputs": [],
   "source": [
    "def resize(image, width=None, height=None, inter=cv2.INTER_AREA):\n",
    "    # initialize the dimensions of the image to be resized and\n",
    "    # grab the image size\n",
    "    dim = None\n",
    "    (h, w) = image.shape[:2]\n",
    "\n",
    "    # if both the width and height are None, then return the\n",
    "    # original image\n",
    "    if width is None and height is None:\n",
    "        return image\n",
    "\n",
    "    # check to see if the width is None\n",
    "    if width is None:\n",
    "        # calculate the ratio of the height and construct the\n",
    "        # dimensions\n",
    "        r = height / float(h)\n",
    "        dim = (int(w * r), height)\n",
    "\n",
    "    # otherwise, the height is None\n",
    "    else:\n",
    "        # calculate the ratio of the width and construct the\n",
    "        # dimensions\n",
    "        r = width / float(w)\n",
    "        dim = (width, int(h * r))\n",
    "\n",
    "    # resize the image\n",
    "    resized = cv2.resize(image, dim, interpolation=inter)\n",
    "\n",
    "    # return the resized image\n",
    "    return resized"
   ]
  },
  {
   "cell_type": "markdown",
   "id": "11525373",
   "metadata": {},
   "source": [
    "### NMS (Non Maxima Suppression)\n",
    "\n",
    "Dopo l'appliacazione della tecnica delle sliding windows è normale ottenere più bounding boxes intorno all'immagine in quanto, man mano che si avvicina al centro dell'immagine, il classificatore produce probabilità sempre più alte.<br>\n",
    "Per ridurre il numero di bounding boxes è necessario applicare l'algoritmo di NMS (Non Maxima Suppression) per ridurre i bouding box sovrapposti con minor probabilità.<br>\n",
    "L'obiettivo è quello di ottenere un solo \"bounding box\" per ciascun oggetto presente nell'immagine iniziale."
   ]
  },
  {
   "cell_type": "code",
   "execution_count": 18,
   "id": "48bebbae",
   "metadata": {},
   "outputs": [],
   "source": [
    "def non_max_suppression(boxes, probs=None, overlapThresh=0.3):\n",
    "    \n",
    "    # if there are no boxes, return an empty list\n",
    "    if len(boxes) == 0:\n",
    "        return []\n",
    "\n",
    "    # if the bounding boxes are integers, convert them to floats -- this\n",
    "    # is important since we'll be doing a bunch of divisions\n",
    "    if boxes.dtype.kind == \"i\":\n",
    "        boxes = boxes.astype(\"float\")\n",
    "\n",
    "    # initialize the list of picked indexes\n",
    "    pick = []\n",
    "\n",
    "    # grab the coordinates of the bounding boxes\n",
    "    x1 = boxes[:, 0]\n",
    "    y1 = boxes[:, 1]\n",
    "    x2 = boxes[:, 2]\n",
    "    y2 = boxes[:, 3]\n",
    "\n",
    "    # compute the area of the bounding boxes and grab the indexes to sort\n",
    "    # (in the case that no probabilities are provided, simply sort on the\n",
    "    # bottom-left y-coordinate)\n",
    "    area = (x2 - x1 + 1) * (y2 - y1 + 1)\n",
    "    idxs = y2\n",
    "\n",
    "    # if probabilities are provided, sort on them instead\n",
    "    if probs is not None:\n",
    "        idxs = probs\n",
    "\n",
    "    # sort the indexes\n",
    "    idxs = np.argsort(idxs)\n",
    "\n",
    "    # keep looping while some indexes still remain in the indexes list\n",
    "    while len(idxs) > 0:\n",
    "        # grab the last index in the indexes list and add the index value\n",
    "        # to the list of picked indexes\n",
    "        last = len(idxs) - 1\n",
    "        i = idxs[last]\n",
    "        pick.append(i)\n",
    "\n",
    "        # find the largest (x, y) coordinates for the start of the bounding\n",
    "        # box and the smallest (x, y) coordinates for the end of the bounding\n",
    "        # box\n",
    "        xx1 = np.maximum(x1[i], x1[idxs[:last]])\n",
    "        yy1 = np.maximum(y1[i], y1[idxs[:last]])\n",
    "        xx2 = np.minimum(x2[i], x2[idxs[:last]])\n",
    "        yy2 = np.minimum(y2[i], y2[idxs[:last]])\n",
    "\n",
    "        # compute the width and height of the bounding box\n",
    "        w = np.maximum(0, xx2 - xx1 + 1)\n",
    "        h = np.maximum(0, yy2 - yy1 + 1)\n",
    "\n",
    "        # compute the ratio of overlap\n",
    "        overlap = (w * h) / area[idxs[:last]]\n",
    "\n",
    "        # delete all indexes from the index list that have overlap greater\n",
    "        # than the provided overlap threshold\n",
    "        idxs = np.delete(idxs, np.concatenate(([last],\n",
    "            np.where(overlap > overlapThresh)[0])))\n",
    "\n",
    "    # return only the bounding boxes that were picked\n",
    "    return boxes[pick].astype(\"int\")"
   ]
  },
  {
   "attachments": {
    "immagine.png": {
     "image/png": "[encoded data removed]"
    }
   },
   "cell_type": "markdown",
   "id": "9289a394",
   "metadata": {},
   "source": [
    "Di seguito gli step necessari per conventire un image classifier in object detector\n",
    "![immagine.png](attachment:immagine.png)"
   ]
  },
  {
   "cell_type": "code",
   "execution_count": 19,
   "id": "0e4b9177",
   "metadata": {},
   "outputs": [],
   "source": [
    "from tensorflow.keras.applications import ResNet50\n",
    "from tensorflow.keras.applications.resnet import preprocess_input\n",
    "from tensorflow.keras.preprocessing.image import img_to_array\n",
    "from tensorflow.keras.applications import imagenet_utils\n",
    "\n",
    "import argparse\n",
    "import time\n"
   ]
  },
  {
   "cell_type": "code",
   "execution_count": 20,
   "id": "21238203",
   "metadata": {},
   "outputs": [],
   "source": [
    "# initialize variables used for the object detection procedure\n",
    "\n",
    "IMMAGINE='data/stingray.jpg'\n",
    "#IMMAGINE='data/trattore.jpg'\n",
    "#IMMAGINE='data/AIRPLANE_BIG.jpg'\n",
    "WIDTH = 600   # Dal momento che l'immagine di input può avere diverse dimensioni, \n",
    "              # fisso una dimensione fissa per controllare dimensione sullo schermo\n",
    "PYR_SCALE = 1.5  # fattore di scala che controlla quanto l'immagine viene ridotta x ogni \n",
    "                # layer dell'image pyramid \n",
    "WIN_STEP = 16   # step size della sliding windows (quanti pixel salta)\n",
    "ROI_SIZE = (200,150)   # dimensione della finestra ROI in pixel\n",
    "#ROI_SIZE = (224,224)   # dimensione della finestra ROI in pixel\n",
    "INPUT_SIZE = (224, 224) # Dipende dal CNN utilizzato. In questo caso è la dimensione richiesta da ResNet50\n",
    "\n",
    "MIN_CONF =  0.95 # probabilità minima per filtrare probabilità \"deboli\"\n",
    "VISUALIZE = False\n"
   ]
  },
  {
   "cell_type": "markdown",
   "id": "d9e7ef0d",
   "metadata": {},
   "source": [
    "E' necessario :\n",
    "- caricare il modello di CNN Classifier (ResNe50) pretrained con ImageNet dataset<br>\n",
    "- importare l'immagine su cui effettuare l'object detection ed effettuare il resize"
   ]
  },
  {
   "cell_type": "code",
   "execution_count": 21,
   "id": "69ee530e",
   "metadata": {},
   "outputs": [
    {
     "name": "stdout",
     "output_type": "stream",
     "text": [
      "[INFO] loading network...\n",
      "[INFO] loaded\n"
     ]
    }
   ],
   "source": [
    "# load our network weights from disk\n",
    "print(\"[INFO] loading network...\")\n",
    "model = ResNet50(weights=\"imagenet\", include_top=True)\n",
    "print(\"[INFO] loaded\")\n",
    "\n",
    "# load the input image from disk, resize it such that it has the\n",
    "# has the supplied width, and then grab its dimensions\n",
    "#orig = cv2.imread(args[\"image\"])\n",
    "orig = cv2.imread(IMMAGINE)\n",
    "orig = resize(orig, width=WIDTH)\n",
    "(H, W) = orig.shape[:2]\n"
   ]
  },
  {
   "cell_type": "markdown",
   "id": "3a1441bd",
   "metadata": {},
   "source": [
    "Step successivo è inizializzare l'image pyramid generator per estrarre le diverse immagini da cui successivamente estrarre i ROI attraverso le sliding windows"
   ]
  },
  {
   "cell_type": "code",
   "execution_count": 22,
   "id": "80392017",
   "metadata": {},
   "outputs": [],
   "source": [
    "# initialize the image pyramid\n",
    "pyramid = image_pyramid(orig, scale=PYR_SCALE, minSize=ROI_SIZE)\n",
    "\n",
    "# initialize two lists, one to hold the ROIs generated from the image\n",
    "# pyramid and sliding window, and another list used to store the\n",
    "# (x, y)-coordinates of where the ROI was in the original image\n",
    "rois = []\n",
    "locs = []\n",
    "# time how long it takes to loop over the image pyramid layers and\n",
    "# sliding window locations\n",
    "start = time.time()"
   ]
  },
  {
   "cell_type": "markdown",
   "id": "5535ba81",
   "metadata": {},
   "source": [
    "Utilizzando il generatore (Image Pyramid), viene fatto un loop sui diversi layer (immagini di diverse dimensioni) che lo compongono "
   ]
  },
  {
   "cell_type": "code",
   "execution_count": 23,
   "id": "640ef55c",
   "metadata": {},
   "outputs": [
    {
     "name": "stdout",
     "output_type": "stream",
     "text": [
      "[INFO] looping over pyramid/windows took 147.97984 seconds\n"
     ]
    }
   ],
   "source": [
    "# loop over the image pyramid\n",
    "for image in pyramid:\n",
    "    # determine the scale factor between the *original* image\n",
    "    # dimensions (\"W\") and the *current* layer of the pyramid (\"image.shape[1]\")\n",
    "    # E' necessario per successivamente scalare i bounding box\n",
    "    scale = W / float(image.shape[1])\n",
    "    \n",
    "    # for each layer of the image pyramid, loop over the sliding window locations\n",
    "    for (x, y, roiOrig) in sliding_window(image, WIN_STEP, ROI_SIZE):\n",
    "        \n",
    "        # scale the (x, y)-coordinates of the ROI with respect to the *original* image dimensions\n",
    "        x = int(x * scale)\n",
    "        y = int(y * scale)\n",
    "        w = int(ROI_SIZE[0] * scale)\n",
    "        h = int(ROI_SIZE[1] * scale)\n",
    "        \n",
    "        # take the ROI and preprocess it so we can later classify the region using Keras/TensorFlow\n",
    "        roi = cv2.resize(roiOrig, INPUT_SIZE)\n",
    "        roi = img_to_array(roi)\n",
    "        roi = preprocess_input(roi)   # Applica l'image preprocessing per ResNet50\n",
    "        \n",
    "        # update our list of ROIs and associated coordinates\n",
    "        rois.append(roi)\n",
    "        locs.append((x, y, x + w, y + h))\n",
    "\n",
    "        \n",
    "# check to see if we are visualizing each of the sliding windows in the image pyramid\n",
    "        if VISUALIZE > 0:\n",
    "            # clone the original image and then draw a bounding box\n",
    "            # surrounding the current region\n",
    "            clone = orig.copy()\n",
    "            cv2.rectangle(clone, (x, y), (x + w, y + h),(0, 255, 0), 2)\n",
    "            # show the visualization and current ROI\n",
    "            cv2.imshow(\"Visualization\", clone)\n",
    "            cv2.imshow(\"ROI\", roiOrig)\n",
    "            cv2.waitKey(0)        \n",
    "# show how long it took to loop over the image pyramid layers and sliding window locations\n",
    "\n",
    "end = time.time()\n",
    "print(\"[INFO] looping over pyramid/windows took {:.5f} seconds\".format(end - start))"
   ]
  },
  {
   "cell_type": "markdown",
   "id": "8877e519",
   "metadata": {},
   "source": [
    "Dopo aver ottenuto la lista dei ROI, si può procedere con la classificazione degli stessi utilizzando il modello di CNN precedentemente caricato"
   ]
  },
  {
   "cell_type": "code",
   "execution_count": 24,
   "id": "c0a64350",
   "metadata": {},
   "outputs": [
    {
     "name": "stdout",
     "output_type": "stream",
     "text": [
      "[INFO] classifying ROIs...\n",
      "[INFO] classifying ROIs took 15.77794 seconds\n"
     ]
    }
   ],
   "source": [
    "# convert the ROIs to a NumPy array\n",
    "rois = np.array(rois, dtype=\"float32\")\n",
    "# classify each of the proposal ROIs using ResNet and then show how\n",
    "# long the classifications took\n",
    "print(\"[INFO] classifying ROIs...\")\n",
    "start = time.time()\n",
    "preds = model.predict(rois)\n",
    "end = time.time()\n",
    "print(\"[INFO] classifying ROIs took {:.5f} seconds\".format(end - start))\n",
    "\n",
    "# decode the predictions and initialize a dictionary which maps class\n",
    "# labels (keys) to any ROIs associated with that label (values)\n",
    "preds = imagenet_utils.decode_predictions(preds, top=1)\n",
    "labels = {}"
   ]
  },
  {
   "cell_type": "code",
   "execution_count": 25,
   "id": "82537b43",
   "metadata": {},
   "outputs": [],
   "source": [
    "# loop over the predictions\n",
    "for (i, p) in enumerate(preds):\n",
    "    # grab the prediction information for the current ROI\n",
    "    (imagenetID, label, prob) = p[0]\n",
    "    # filter out weak detections by ensuring the predicted probability is greater than the minimum probability\n",
    "    if prob >= MIN_CONF:\n",
    "        # grab the bounding box associated with the prediction and convert the coordinates\n",
    "        box = locs[i]\n",
    "        # grab the list of predictions for the label and add the\n",
    "        # bounding box and probability to the list\n",
    "        L = labels.get(label, [])\n",
    "        L.append((box, prob))\n",
    "        labels[label] = L"
   ]
  },
  {
   "cell_type": "code",
   "execution_count": 26,
   "id": "1a83c993",
   "metadata": {},
   "outputs": [
    {
     "data": {
      "text/plain": [
       "{'stingray': [((288, 128, 488, 278), 0.9540817),\n",
       "  ((304, 128, 504, 278), 0.9632943),\n",
       "  ((224, 144, 424, 294), 0.95643336),\n",
       "  ((144, 0, 444, 225), 0.9724927),\n",
       "  ((192, 0, 492, 225), 0.98630893)]}"
      ]
     },
     "execution_count": 26,
     "metadata": {},
     "output_type": "execute_result"
    }
   ],
   "source": [
    "labels"
   ]
  },
  {
   "cell_type": "markdown",
   "id": "d5653552",
   "metadata": {},
   "source": [
    "Una volta ottenuta la lista con:\n",
    "- le labels degli oggetti identificati nell'immagine\n",
    "- la lista dei bounding box con le relative probabilità\n",
    "\n",
    "è possibile iterare su tutte le labels e applicare l'algoritmo NMS su tutti i relativi box, in modo da ottenere il bounding box da proporre come scelta finale per l'oggetto"
   ]
  },
  {
   "cell_type": "code",
   "execution_count": 27,
   "id": "5d2f116c",
   "metadata": {},
   "outputs": [
    {
     "name": "stdout",
     "output_type": "stream",
     "text": [
      "[INFO] showing results for 'stingray'\n"
     ]
    }
   ],
   "source": [
    "# loop over the labels for each of detected objects in the image\n",
    "for label in labels.keys():\n",
    "    # clone the original image so that we can draw on it\n",
    "    print(\"[INFO] showing results for '{}'\".format(label))\n",
    "    clone = orig.copy()\n",
    "    # loop over all bounding boxes for the current label\n",
    "    for (box, prob) in labels[label]:\n",
    "        # draw the bounding box on the image\n",
    "        (startX, startY, endX, endY) = box\n",
    "        cv2.rectangle(clone, (startX, startY), (endX, endY),(0, 255, 0), 2)\n",
    "    # show the results *before* applying non-maxima suppression, then\n",
    "    # clone the image again so we can display the results *after*\n",
    "    # applying non-maxima suppression\n",
    "    cv2.imshow(\"Before\", clone)\n",
    "    clone = orig.copy()\n",
    "# extract the bounding boxes and associated prediction\n",
    "#   probabilities, then apply non-maxima suppression\n",
    "    boxes = np.array([p[0] for p in labels[label]])\n",
    "    proba = np.array([p[1] for p in labels[label]])\n",
    "    boxes = non_max_suppression(boxes, proba)\n",
    "    # loop over all bounding boxes that were kept after applying non-maxima suppression\n",
    "    for (startX, startY, endX, endY) in boxes:\n",
    "        # draw the bounding box and label on the image\n",
    "        cv2.rectangle(clone, (startX, startY), (endX, endY),(0, 255, 0), 2)\n",
    "        y = startY - 10 if startY - 10 > 10 else startY + 10\n",
    "        cv2.putText(clone, label, (startX, y), cv2.FONT_HERSHEY_SIMPLEX, 0.45, (0, 255, 0), 2)\n",
    "    # show the output after apply non-maxima suppression\n",
    "    cv2.imshow(\"After\", clone)\n",
    "    cv2.waitKey(0)    "
   ]
  },
  {
   "cell_type": "markdown",
   "id": "590f0063",
   "metadata": {},
   "source": [
    "I punti deboli di questo object detector sono:\n",
    "- lentezza\n",
    "- non accuratezza dei bounding box (dipende fortemente dai parametri utilizzati come la scala dell'image pyramid, delle sliding windows e dalla dimensione del ROI)\n",
    "- non è possibile fare il trainig end to end (diversamente da altri modelli di Oject detection come Faster R-CNN, SSDs, YOLO. Facendo training end to end del modello è possibile correggere eventuali errori utilizzando il meccanismo della backpropagation dell'errore."
   ]
  },
  {
   "cell_type": "code",
   "execution_count": null,
   "id": "b00382da",
   "metadata": {},
   "outputs": [],
   "source": []
  }
 ],
 "metadata": {
  "kernelspec": {
   "display_name": "Python [conda env:tf-env]",
   "language": "python",
   "name": "conda-env-tf-env-py"
  },
  "language_info": {
   "codemirror_mode": {
    "name": "ipython",
    "version": 3
   },
   "file_extension": ".py",
   "mimetype": "text/x-python",
   "name": "python",
   "nbconvert_exporter": "python",
   "pygments_lexer": "ipython3",
   "version": "3.9.7"
  }
 },
 "nbformat": 4,
 "nbformat_minor": 5
}
