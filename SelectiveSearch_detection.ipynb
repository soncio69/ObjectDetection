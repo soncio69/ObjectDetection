{
 "cells": [
  {
   "cell_type": "markdown",
   "id": "9753810c",
   "metadata": {},
   "source": [
    "Dopo aver estratto le possibili regioni che possono contenere un oggetto utilizzando l'algoritmo di Selective Search proposto nel notebook SelectiveSearch.ipynb, è possibile sottoporre le regioni stesse ad un classificatore al fine di individuare l'oggetto contenuto nel box proposto. <br>\n",
    "In pratica SelectiveSearch sostituisce Image Pyramid e sliding windows per estrare i ROI da classificare"
   ]
  },
  {
   "cell_type": "code",
   "execution_count": 66,
   "id": "dadf9d47",
   "metadata": {},
   "outputs": [],
   "source": [
    "from tensorflow.keras.applications import ResNet50\n",
    "from tensorflow.keras.applications.resnet50 import preprocess_input\n",
    "from tensorflow.keras.applications import imagenet_utils\n",
    "from tensorflow.keras.preprocessing.image import img_to_array\n",
    "import numpy as np\n",
    "import argparse\n",
    "import cv2"
   ]
  },
  {
   "cell_type": "markdown",
   "id": "7f1eb8ae",
   "metadata": {},
   "source": [
    "Come modello di CNN per la classificazione verrà usato ResNet50 pre-trained sull'imagenet dataset"
   ]
  },
  {
   "cell_type": "code",
   "execution_count": 67,
   "id": "f8856326",
   "metadata": {},
   "outputs": [],
   "source": [
    "#IMAGE = \"data/gatto2.jpg\"\n",
    "IMAGE = \"data/cani.jpg\"\n",
    "METHOD = \"fast\"\n",
    "#METHOD = \"quality\"\n",
    "CONF = 0.95\n",
    "\n",
    "labelFilters = None\n",
    "# if the label filter is not empty, break it into a list\n",
    "if labelFilters is not None:\n",
    "    labelFilters = labelFilters.lower().split(\",\")"
   ]
  },
  {
   "cell_type": "markdown",
   "id": "44931073",
   "metadata": {},
   "source": [
    "Per ridurre il numero di bounding boxes è necessario applicare l'algoritmo di NMS (Non Maxima Suppression) per ridurre i bouding box sovrapposti con minor probabilità.<br>\n",
    "L'obiettivo è quello di ottenere un solo \"bounding box\" per ciascun oggetto presente nell'immagine iniziale.\n",
    "\n",
    "### todo : creare modulo di utility"
   ]
  },
  {
   "cell_type": "code",
   "execution_count": 68,
   "id": "2e4ab0c3",
   "metadata": {},
   "outputs": [],
   "source": [
    "def non_max_suppression(boxes, probs=None, overlapThresh=0.3):\n",
    "    # if there are no boxes, return an empty list\n",
    "    if len(boxes) == 0:\n",
    "        return []\n",
    "\n",
    "    # if the bounding boxes are integers, convert them to floats -- this\n",
    "    # is important since we'll be doing a bunch of divisions\n",
    "    if boxes.dtype.kind == \"i\":\n",
    "        boxes = boxes.astype(\"float\")\n",
    "\n",
    "    # initialize the list of picked indexes\n",
    "    pick = []\n",
    "\n",
    "    # grab the coordinates of the bounding boxes\n",
    "    x1 = boxes[:, 0]\n",
    "    y1 = boxes[:, 1]\n",
    "    x2 = boxes[:, 2]\n",
    "    y2 = boxes[:, 3]\n",
    "\n",
    "    # compute the area of the bounding boxes and grab the indexes to sort\n",
    "    # (in the case that no probabilities are provided, simply sort on the\n",
    "    # bottom-left y-coordinate)\n",
    "    area = (x2 - x1 + 1) * (y2 - y1 + 1)\n",
    "    idxs = y2\n",
    "\n",
    "    # if probabilities are provided, sort on them instead\n",
    "    if probs is not None:\n",
    "        idxs = probs\n",
    "\n",
    "    # sort the indexes\n",
    "    idxs = np.argsort(idxs)\n",
    "\n",
    "    # keep looping while some indexes still remain in the indexes list\n",
    "    while len(idxs) > 0:\n",
    "        # grab the last index in the indexes list and add the index value\n",
    "        # to the list of picked indexes\n",
    "        last = len(idxs) - 1\n",
    "        i = idxs[last]\n",
    "        pick.append(i)\n",
    "\n",
    "        # find the largest (x, y) coordinates for the start of the bounding\n",
    "        # box and the smallest (x, y) coordinates for the end of the bounding\n",
    "        # box\n",
    "        xx1 = np.maximum(x1[i], x1[idxs[:last]])\n",
    "        yy1 = np.maximum(y1[i], y1[idxs[:last]])\n",
    "        xx2 = np.minimum(x2[i], x2[idxs[:last]])\n",
    "        yy2 = np.minimum(y2[i], y2[idxs[:last]])\n",
    "\n",
    "        # compute the width and height of the bounding box\n",
    "        w = np.maximum(0, xx2 - xx1 + 1)\n",
    "        h = np.maximum(0, yy2 - yy1 + 1)\n",
    "\n",
    "        # compute the ratio of overlap\n",
    "        overlap = (w * h) / area[idxs[:last]]\n",
    "\n",
    "        # delete all indexes from the index list that have overlap greater\n",
    "        # than the provided overlap threshold\n",
    "        idxs = np.delete(idxs, np.concatenate(([last],\n",
    "            np.where(overlap > overlapThresh)[0])))\n",
    "\n",
    "    # return only the bounding boxes that were picked\n",
    "    return boxes[pick].astype(\"int\")"
   ]
  },
  {
   "cell_type": "markdown",
   "id": "f3bab9ab",
   "metadata": {},
   "source": [
    "Imposto la funzione per richiamare l'algoritmo di SelectiveSearch che riceve in input una immagine e restituisce le possibili regioni (region proposal) dove potrebbero trovarsi gli oggetti.\n",
    "Queste regioni (bounding box) verranno successivamente passate ad un classificatore e successivamente verrà applicato l'algoritmo NMS."
   ]
  },
  {
   "cell_type": "code",
   "execution_count": 64,
   "id": "f45cefd4",
   "metadata": {},
   "outputs": [],
   "source": [
    "def selective_search(image, method=\"fast\"):\n",
    "    # initialize OpenCV's selective search implementation and set the input image\n",
    "    ss = cv2.ximgproc.segmentation.createSelectiveSearchSegmentation()\n",
    "    ss.setBaseImage(image)\n",
    "    # check to see if we are using the *fast* but *less accurate* version of selective search\n",
    "    if METHOD == \"fast\":\n",
    "        ss.switchToSelectiveSearchFast()\n",
    "    # otherwise we are using the *slower* but *more accurate* version\n",
    "    else:\n",
    "        ss.switchToSelectiveSearchQuality()\n",
    "    # run selective search on the input image\n",
    "    rects = ss.process()\n",
    "    # return the region proposal bounding boxes\n",
    "    return rects"
   ]
  },
  {
   "cell_type": "markdown",
   "id": "2a3d2c45",
   "metadata": {},
   "source": [
    "Si procede a caricare sia il modello pre-trained di ResNet50 che l'immagine da trattare"
   ]
  },
  {
   "cell_type": "code",
   "execution_count": 69,
   "id": "9b32912e",
   "metadata": {},
   "outputs": [
    {
     "name": "stdout",
     "output_type": "stream",
     "text": [
      "[INFO] loading ResNet...\n"
     ]
    }
   ],
   "source": [
    "# load ResNet from disk (with weights pre-trained on ImageNet)\n",
    "print(\"[INFO] loading ResNet...\")\n",
    "model = ResNet50(weights=\"imagenet\")\n",
    "# load the input image from disk and grab its dimensions\n",
    "image = cv2.imread(IMAGE)\n",
    "(H, W) = image.shape[:2]"
   ]
  },
  {
   "cell_type": "markdown",
   "id": "f8e13279",
   "metadata": {},
   "source": [
    "All'immagine di input viene applicato l'algoritmo di SelectiveSearch al fine di ottenere una lista di region proposal"
   ]
  },
  {
   "cell_type": "code",
   "execution_count": 70,
   "id": "450445c6",
   "metadata": {},
   "outputs": [
    {
     "name": "stdout",
     "output_type": "stream",
     "text": [
      "[INFO] performing selective search with 'fast' method...\n",
      "[INFO] 1741 regions found by selective search\n"
     ]
    }
   ],
   "source": [
    "# run selective search on the input image\n",
    "print(\"[INFO] performing selective search with '{}' method...\".format(METHOD))\n",
    "rects = selective_search(image, METHOD)\n",
    "print(\"[INFO] {} regions found by selective search\".format(len(rects)))\n",
    "\n",
    "\n",
    "# initialize the list of region proposals that we'll be classifying\n",
    "# along with their associated bounding boxes\n",
    "proposals = []\n",
    "boxes = []"
   ]
  },
  {
   "cell_type": "markdown",
   "id": "01703b7d",
   "metadata": {},
   "source": [
    "Partendo delle regioni estratte dall'algoritmo di SS, vengono popolate 2 liste:\n",
    "- proposals : contiene le immagini di dimensione sufficientemente larga (> 10% della dimensione originale)\n",
    "- boxes : contiene le corrispondenti coordinate dei bounding box"
   ]
  },
  {
   "cell_type": "code",
   "execution_count": 71,
   "id": "866d2920",
   "metadata": {},
   "outputs": [],
   "source": [
    "# loop over the region proposal bounding box coordinates generated by\n",
    "# running selective search\n",
    "for (x, y, w, h) in rects:\n",
    "    # if the width or height of the region is less than 10% of the\n",
    "    # image width or height, ignore it (i.e., filter out small\n",
    "    # objects that are likely false-positives)\n",
    "    if w / float(W) < 0.1 or h / float(H) < 0.1:\n",
    "        continue\n",
    "    # extract the region from the input image, convert it from BGR to\n",
    "    # RGB channel ordering, and then resize it to 224x224 (the input\n",
    "    # dimensions required by our pre-trained CNN)\n",
    "    roi = image[y:y + h, x:x + w]\n",
    "    roi = cv2.cvtColor(roi, cv2.COLOR_BGR2RGB)\n",
    "    roi = cv2.resize(roi, (224, 224))\n",
    "    # further preprocess by the ROI\n",
    "    roi = img_to_array(roi)\n",
    "    roi = preprocess_input(roi)\n",
    "    # update our proposals and bounding boxes lists\n",
    "    proposals.append(roi)\n",
    "    boxes.append((x, y, w, h))"
   ]
  },
  {
   "cell_type": "markdown",
   "id": "f0bd3d2b",
   "metadata": {},
   "source": [
    "Le immagine estratte dal ciclo precedente devono essere classificate dal modello CNN"
   ]
  },
  {
   "cell_type": "code",
   "execution_count": 72,
   "id": "bd3c6b11",
   "metadata": {},
   "outputs": [
    {
     "name": "stdout",
     "output_type": "stream",
     "text": [
      "[INFO] proposal shape: (654, 224, 224, 3)\n",
      "[INFO] classifying proposals...\n"
     ]
    }
   ],
   "source": [
    "# convert the proposals list into NumPy array and show its dimensions\n",
    "proposals = np.array(proposals)\n",
    "print(\"[INFO] proposal shape: {}\".format(proposals.shape))\n",
    "\n",
    "# classify each of the proposal ROIs using ResNet and then decode the\n",
    "# predictions\n",
    "print(\"[INFO] classifying proposals...\")\n",
    "preds = model.predict(proposals)\n",
    "preds = imagenet_utils.decode_predictions(preds, top=1)\n",
    "\n",
    "# initialize a dictionary which maps class labels (keys) to any\n",
    "# bounding box associated with that label (values)\n",
    "labels = {}"
   ]
  },
  {
   "cell_type": "markdown",
   "id": "c50d5017",
   "metadata": {},
   "source": [
    "Partendo dalle prediction del classificatore, si procede a filtrare le classi a cui si è interessati e "
   ]
  },
  {
   "cell_type": "code",
   "execution_count": 73,
   "id": "442d03de",
   "metadata": {},
   "outputs": [],
   "source": [
    "# loop over the predictions\n",
    "for (i, p) in enumerate(preds):\n",
    "    # grab the prediction information for the current region proposal\n",
    "    (imagenetID, label, prob) = p[0]\n",
    "    # only if the label filters are not empty *and* the label does not\n",
    "    # exist in the list, then ignore it\n",
    "    if labelFilters is not None and label not in labelFilters:\n",
    "        continue\n",
    "    # filter out weak detections by ensuring the predicted probability\n",
    "    # is greater than the minimum probability\n",
    "    if prob >= CONF:\n",
    "        # grab the bounding box associated with the prediction and\n",
    "        # convert the coordinates\n",
    "        (x, y, w, h) = boxes[i]\n",
    "        box = (x, y, x + w, y + h)\n",
    "        # grab the list of predictions for the label and add the\n",
    "        # bounding box + probability to the list\n",
    "        L = labels.get(label, [])\n",
    "        L.append((box, prob))\n",
    "        labels[label] = L"
   ]
  },
  {
   "cell_type": "code",
   "execution_count": 75,
   "id": "1e364c3c",
   "metadata": {},
   "outputs": [
    {
     "data": {
      "text/plain": [
       "{'German_shepherd': [((297, 22, 400, 116), 0.9543077),\n",
       "  ((0, 0, 327, 413), 0.97552335),\n",
       "  ((0, 0, 336, 413), 0.9632842),\n",
       "  ((122, 0, 545, 393), 0.9749853),\n",
       "  ((172, 233, 241, 335), 0.95126635),\n",
       "  ((72, 0, 620, 413), 0.9518344),\n",
       "  ((122, 0, 620, 383), 0.9705039),\n",
       "  ((0, 0, 369, 413), 0.9812852),\n",
       "  ((307, 0, 482, 140), 0.9608264),\n",
       "  ((86, 0, 620, 413), 0.9768231),\n",
       "  ((0, 0, 359, 413), 0.9566941),\n",
       "  ((126, 22, 541, 284), 0.9503739),\n",
       "  ((122, 22, 485, 394), 0.95828134),\n",
       "  ((0, 0, 486, 413), 0.95313793),\n",
       "  ((79, 0, 620, 413), 0.96051115),\n",
       "  ((0, 0, 503, 413), 0.97353584),\n",
       "  ((0, 0, 367, 413), 0.9654198),\n",
       "  ((126, 22, 493, 284), 0.98624516),\n",
       "  ((0, 0, 500, 413), 0.9784501)],\n",
       " 'Leonberg': [((304, 141, 440, 305), 0.96334976),\n",
       "  ((282, 145, 405, 309), 0.955411),\n",
       "  ((306, 88, 545, 250), 0.96593565)]}"
      ]
     },
     "execution_count": 75,
     "metadata": {},
     "output_type": "execute_result"
    }
   ],
   "source": [
    "labels"
   ]
  },
  {
   "cell_type": "markdown",
   "id": "1fe628ee",
   "metadata": {},
   "source": [
    "Partendo dal dictionary \"labels\" che contiene, per ogni regione selezionata:\n",
    "- la classe individuata (come chiave)\n",
    "- le coordinate e la probabilità assegnata \n",
    "\n",
    "viene applicato l'algoritmo di NMS al fine di eliminare i box spvrapposti ed ottenere un unico box per ogni classe.\n",
    "Nel loop successivo vengono mostrati, per ogni label (classe individuata) i box prima e dopo l'applicazione dell'algoritmo di NMS"
   ]
  },
  {
   "cell_type": "code",
   "execution_count": 76,
   "id": "c48a8f38",
   "metadata": {},
   "outputs": [
    {
     "name": "stdout",
     "output_type": "stream",
     "text": [
      "[INFO] showing results for 'German_shepherd'\n",
      "[INFO] showing results for 'Leonberg'\n"
     ]
    }
   ],
   "source": [
    "# loop over the labels for each of detected objects in the image\n",
    "for label in labels.keys():\n",
    "    # clone the original image so that we can draw on it\n",
    "    print(\"[INFO] showing results for '{}'\".format(label))\n",
    "    clone = image.copy()\n",
    "    # loop over all bounding boxes for the current label\n",
    "    for (box, prob) in labels[label]:\n",
    "        # draw the bounding box on the image\n",
    "        (startX, startY, endX, endY) = box\n",
    "        cv2.rectangle(clone, (startX, startY), (endX, endY),\n",
    "            (0, 255, 0), 2)\n",
    "    # show the results *before* applying non-maxima suppression, then\n",
    "    # clone the image again so we can display the results *after*\n",
    "    # applying non-maxima suppression\n",
    "    cv2.imshow(\"Before\", clone)\n",
    "    clone = image.copy()\n",
    "    # extract the bounding boxes and associated prediction\n",
    "    # probabilities, then apply non-maxima suppression\n",
    "    boxes = np.array([p[0] for p in labels[label]])\n",
    "    proba = np.array([p[1] for p in labels[label]])\n",
    "    boxes = non_max_suppression(boxes, proba)\n",
    "    # loop over all bounding boxes that were kept after applying\n",
    "    # non-maxima suppression\n",
    "    for (startX, startY, endX, endY) in boxes:\n",
    "        # draw the bounding box and label on the image\n",
    "        cv2.rectangle(clone, (startX, startY), (endX, endY),\n",
    "            (0, 255, 0), 2)\n",
    "        y = startY - 10 if startY - 10 > 10 else startY + 10\n",
    "        cv2.putText(clone, label, (startX, y),\n",
    "            cv2.FONT_HERSHEY_SIMPLEX, 0.45, (0, 255, 0), 2)\n",
    "    # show the output after apply non-maxima suppression\n",
    "    cv2.imshow(\"After\", clone)\n",
    "    cv2.waitKey(0)"
   ]
  },
  {
   "cell_type": "markdown",
   "id": "57d56433",
   "metadata": {},
   "source": [
    "I risultati ottenuto non sono ancora pienamente soddisfacenti in quanto l'algoritmo individua anche parecchie classi non desiderate (noise) che, eventualmente, dovrebbero essere filtrate dal risultato finale"
   ]
  },
  {
   "cell_type": "code",
   "execution_count": null,
   "id": "8fa076cb",
   "metadata": {},
   "outputs": [],
   "source": []
  }
 ],
 "metadata": {
  "kernelspec": {
   "display_name": "Python [conda env:tf-env]",
   "language": "python",
   "name": "conda-env-tf-env-py"
  },
  "language_info": {
   "codemirror_mode": {
    "name": "ipython",
    "version": 3
   },
   "file_extension": ".py",
   "mimetype": "text/x-python",
   "name": "python",
   "nbconvert_exporter": "python",
   "pygments_lexer": "ipython3",
   "version": "3.9.7"
  }
 },
 "nbformat": 4,
 "nbformat_minor": 5
}
