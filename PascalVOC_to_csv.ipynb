{
 "cells": [
  {
   "cell_type": "markdown",
   "id": "581c3c4d",
   "metadata": {},
   "source": [
    "Partendo da annotations in formato Pascal VOC effettua la conversione in formato Tensorflow csv annotations"
   ]
  },
  {
   "cell_type": "code",
   "execution_count": 1,
   "id": "4ab7eed8",
   "metadata": {},
   "outputs": [],
   "source": [
    "import os\n",
    "import glob\n",
    "import pandas as pd\n",
    "import xml.etree.ElementTree as ET\n",
    "\n",
    "\n",
    "def xml_to_csv(path):\n",
    "    xml_list = []\n",
    "    for xml_file in glob.glob(path + '/*.xml'):\n",
    "        tree = ET.parse(xml_file)\n",
    "        root = tree.getroot()\n",
    "        for member in root.findall('object'):\n",
    "            bbx = member.find('bndbox')\n",
    "            xmin = int(bbx.find('xmin').text)\n",
    "            ymin = int(bbx.find('ymin').text)\n",
    "            xmax = int(bbx.find('xmax').text)\n",
    "            ymax = int(bbx.find('ymax').text)\n",
    "            label = member.find('name').text\n",
    "\n",
    "            value = (root.find('filename').text,\n",
    "                     int(root.find('size')[0].text),\n",
    "                     int(root.find('size')[1].text),\n",
    "                     label,\n",
    "                     xmin,\n",
    "                     ymin,\n",
    "                     xmax,\n",
    "                     ymax\n",
    "                     )\n",
    "            xml_list.append(value)\n",
    "    column_name = ['filename', 'width', 'height',\n",
    "                   'class', 'xmin', 'ymin', 'xmax', 'ymax']\n",
    "    xml_df = pd.DataFrame(xml_list, columns=column_name)\n",
    "    return xml_df\n",
    "\n"
   ]
  },
  {
   "cell_type": "code",
   "execution_count": 5,
   "id": "e8eb30b3",
   "metadata": {},
   "outputs": [
    {
     "name": "stdout",
     "output_type": "stream",
     "text": [
      "c:/dev/data/signDetector/test2\\annotations\n",
      "Successfully converted xml to csv.\n"
     ]
    }
   ],
   "source": [
    "ORIG_BASE_PATH = \"c:/dev/data/signDetector/test2\"\n",
    "\n",
    "image_path = os.path.join(ORIG_BASE_PATH, 'annotations')\n",
    "print(image_path)\n",
    "xml_df = xml_to_csv(image_path)\n",
    "xml_df.to_csv('labels_tt{}.csv', index=None)\n",
    "print('Successfully converted xml to csv.')"
   ]
  },
  {
   "cell_type": "code",
   "execution_count": null,
   "id": "787556a3",
   "metadata": {},
   "outputs": [],
   "source": [
    "datasets = ['train', 'dev', 'test']\n",
    "    for ds in datasets:\n",
    "        image_path = os.path.join(os.getcwd(), ds, 'annotations')\n",
    "        xml_df = xml_to_csv(image_path)\n",
    "        xml_df.to_csv('labels_{}.csv'.format(ds), index=None)\n",
    "        print('Successfully converted xml to csv.')"
   ]
  }
 ],
 "metadata": {
  "kernelspec": {
   "display_name": "Python [conda env:tf-env]",
   "language": "python",
   "name": "conda-env-tf-env-py"
  },
  "language_info": {
   "codemirror_mode": {
    "name": "ipython",
    "version": 3
   },
   "file_extension": ".py",
   "mimetype": "text/x-python",
   "name": "python",
   "nbconvert_exporter": "python",
   "pygments_lexer": "ipython3",
   "version": "3.9.7"
  }
 },
 "nbformat": 4,
 "nbformat_minor": 5
}
